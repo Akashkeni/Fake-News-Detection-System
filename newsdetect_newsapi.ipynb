{
 "cells": [
  {
   "cell_type": "code",
   "execution_count": 2,
   "id": "0448615d",
   "metadata": {},
   "outputs": [
    {
     "name": "stdout",
     "output_type": "stream",
     "text": [
      "Fetched 17 latest news articles.\n"
     ]
    }
   ],
   "source": [
    "import requests\n",
    "\n",
    "NEWS_API_KEY = \"0ce5c6e52bb14440a6a4747173920518\"  \n",
    "\n",
    "def fetch_latest_news():\n",
    "    url = f\"https://newsapi.org/v2/top-headlines?language=en&apiKey={NEWS_API_KEY}\"\n",
    "    response = requests.get(url)\n",
    "    if response.status_code == 200:\n",
    "        articles = response.json()[\"articles\"]\n",
    "        return [article[\"title\"] + \" \" + article[\"description\"] for article in articles if article[\"description\"]]\n",
    "    return []\n",
    "\n",
    "latest_news = fetch_latest_news()\n",
    "print(f\"Fetched {len(latest_news)} latest news articles.\")\n"
   ]
  },
  {
   "cell_type": "code",
   "execution_count": 5,
   "metadata": {},
   "outputs": [
    {
     "name": "stdout",
     "output_type": "stream",
     "text": [
      "                                               title  \\\n",
      "0  Ben Stein Calls Out 9th Circuit Court: Committ...   \n",
      "1  Trump drops Steve Bannon from National Securit...   \n",
      "2  Puerto Rico expects U.S. to lift Jones Act shi...   \n",
      "3   OOPS: Trump Just Accidentally Confirmed He Le...   \n",
      "4  Donald Trump heads for Scotland to reopen a go...   \n",
      "\n",
      "                                                text       subject  \\\n",
      "0  21st Century Wire says Ben Stein, reputable pr...       US_News   \n",
      "1  WASHINGTON (Reuters) - U.S. President Donald T...  politicsNews   \n",
      "2  (Reuters) - Puerto Rico Governor Ricardo Rosse...  politicsNews   \n",
      "3  On Monday, Donald Trump once again embarrassed...          News   \n",
      "4  GLASGOW, Scotland (Reuters) - Most U.S. presid...  politicsNews   \n",
      "\n",
      "                  date  label  \n",
      "0    February 13, 2017      1  \n",
      "1       April 5, 2017       0  \n",
      "2  September 27, 2017       0  \n",
      "3         May 22, 2017      1  \n",
      "4       June 24, 2016       0  \n"
     ]
    }
   ],
   "source": [
    "import pandas as pd\n",
    "\n",
    "# Load both datasets\n",
    "df_fake = pd.read_csv(r\"E:\\code\\project\\fakenews\\database\\Fake.csv\")\n",
    "df_true = pd.read_csv(r\"E:\\code\\project\\fakenews\\database\\True.csv\")\n",
    "\n",
    "# Add labels (1 = Fake, 0 = Real)\n",
    "df_fake[\"label\"] = 1\n",
    "df_true[\"label\"] = 0\n",
    "\n",
    "# Combine datasets\n",
    "df = pd.concat([df_fake, df_true], axis=0)\n",
    "\n",
    "# Shuffle dataset\n",
    "df = df.sample(frac=1, random_state=42).reset_index(drop=True)\n",
    "\n",
    "# Display dataset structure\n",
    "print(df.head())\n"
   ]
  },
  {
   "cell_type": "code",
   "execution_count": 6,
   "metadata": {},
   "outputs": [],
   "source": [
    "import re\n",
    "from sklearn.model_selection import train_test_split\n",
    "\n",
    "def preprocess_text(text):\n",
    "    text = re.sub(r'[^a-zA-Z0-9]', ' ', text)  # Remove special characters\n",
    "    text = text.lower()  # Convert to lowercase\n",
    "    return text\n",
    "\n",
    "# Apply preprocessing\n",
    "df[\"clean_text\"] = (df[\"title\"] + \" \" + df[\"text\"]).apply(preprocess_text)\n",
    "\n",
    "# Split dataset (80% train, 20% test)\n",
    "X_train, X_test, y_train, y_test = train_test_split(df[\"clean_text\"], df[\"label\"], test_size=0.2, random_state=42)\n"
   ]
  },
  {
   "cell_type": "code",
   "execution_count": 7,
   "metadata": {},
   "outputs": [
    {
     "name": "stdout",
     "output_type": "stream",
     "text": [
      "Naïve Bayes Model Accuracy: 0.93\n"
     ]
    }
   ],
   "source": [
    "from sklearn.feature_extraction.text import TfidfVectorizer\n",
    "from sklearn.naive_bayes import MultinomialNB\n",
    "from sklearn.metrics import accuracy_score\n",
    "\n",
    "# Convert text into numerical vectors\n",
    "vectorizer = TfidfVectorizer(max_features=5000)\n",
    "X_train_vec = vectorizer.fit_transform(X_train)\n",
    "X_test_vec = vectorizer.transform(X_test)\n",
    "\n",
    "# Train Naïve Bayes Model\n",
    "nb_model = MultinomialNB()\n",
    "nb_model.fit(X_train_vec, y_train)\n",
    "\n",
    "# Evaluate Model\n",
    "y_pred = nb_model.predict(X_test_vec)\n",
    "accuracy = accuracy_score(y_test, y_pred)\n",
    "print(f\"Naïve Bayes Model Accuracy: {accuracy:.2f}\")\n"
   ]
  },
  {
   "cell_type": "code",
   "execution_count": 8,
   "metadata": {},
   "outputs": [
    {
     "data": {
      "text/plain": [
       "['vectorizer.pkl']"
      ]
     },
     "execution_count": 8,
     "metadata": {},
     "output_type": "execute_result"
    }
   ],
   "source": [
    "import joblib\n",
    "\n",
    "joblib.dump(nb_model, \"naive_bayes_model.pkl\")\n",
    "joblib.dump(vectorizer, \"vectorizer.pkl\")\n"
   ]
  },
  {
   "cell_type": "code",
   "execution_count": 9,
   "metadata": {},
   "outputs": [],
   "source": [
    "from tensorflow.keras.preprocessing.text import Tokenizer\n",
    "from tensorflow.keras.preprocessing.sequence import pad_sequences\n",
    "\n",
    "# Tokenize text\n",
    "tokenizer = Tokenizer(num_words=5000)\n",
    "tokenizer.fit_on_texts(X_train)\n",
    "\n",
    "# Convert text into sequences\n",
    "X_train_seq = pad_sequences(tokenizer.texts_to_sequences(X_train), maxlen=300)\n",
    "X_test_seq = pad_sequences(tokenizer.texts_to_sequences(X_test), maxlen=300)\n"
   ]
  },
  {
   "cell_type": "code",
   "execution_count": 10,
   "metadata": {},
   "outputs": [
    {
     "name": "stdout",
     "output_type": "stream",
     "text": [
      "Epoch 1/5\n"
     ]
    },
    {
     "name": "stderr",
     "output_type": "stream",
     "text": [
      "c:\\Users\\pathe\\AppData\\Local\\Programs\\Python\\Python312\\Lib\\site-packages\\keras\\src\\layers\\core\\embedding.py:90: UserWarning: Argument `input_length` is deprecated. Just remove it.\n",
      "  warnings.warn(\n"
     ]
    },
    {
     "name": "stdout",
     "output_type": "stream",
     "text": [
      "\u001b[1m1123/1123\u001b[0m \u001b[32m━━━━━━━━━━━━━━━━━━━━\u001b[0m\u001b[37m\u001b[0m \u001b[1m47s\u001b[0m 39ms/step - accuracy: 0.9294 - loss: 0.2021 - val_accuracy: 0.9893 - val_loss: 0.0318\n",
      "Epoch 2/5\n",
      "\u001b[1m1123/1123\u001b[0m \u001b[32m━━━━━━━━━━━━━━━━━━━━\u001b[0m\u001b[37m\u001b[0m \u001b[1m46s\u001b[0m 41ms/step - accuracy: 0.9963 - loss: 0.0143 - val_accuracy: 0.9920 - val_loss: 0.0276\n",
      "Epoch 3/5\n",
      "\u001b[1m1123/1123\u001b[0m \u001b[32m━━━━━━━━━━━━━━━━━━━━\u001b[0m\u001b[37m\u001b[0m \u001b[1m42s\u001b[0m 38ms/step - accuracy: 0.9997 - loss: 0.0029 - val_accuracy: 0.9909 - val_loss: 0.0315\n",
      "Epoch 4/5\n",
      "\u001b[1m1123/1123\u001b[0m \u001b[32m━━━━━━━━━━━━━━━━━━━━\u001b[0m\u001b[37m\u001b[0m \u001b[1m43s\u001b[0m 38ms/step - accuracy: 0.9997 - loss: 0.0013 - val_accuracy: 0.9932 - val_loss: 0.0269\n",
      "Epoch 5/5\n",
      "\u001b[1m1123/1123\u001b[0m \u001b[32m━━━━━━━━━━━━━━━━━━━━\u001b[0m\u001b[37m\u001b[0m \u001b[1m46s\u001b[0m 41ms/step - accuracy: 1.0000 - loss: 2.8240e-04 - val_accuracy: 0.9918 - val_loss: 0.0346\n"
     ]
    },
    {
     "name": "stderr",
     "output_type": "stream",
     "text": [
      "WARNING:absl:You are saving your model as an HDF5 file via `model.save()` or `keras.saving.save_model(model)`. This file format is considered legacy. We recommend using instead the native Keras format, e.g. `model.save('my_model.keras')` or `keras.saving.save_model(model, 'my_model.keras')`. \n"
     ]
    },
    {
     "data": {
      "text/plain": [
       "['tokenizer.pkl']"
      ]
     },
     "execution_count": 10,
     "metadata": {},
     "output_type": "execute_result"
    }
   ],
   "source": [
    "from tensorflow.keras.models import Sequential\n",
    "from tensorflow.keras.layers import Embedding, Conv1D, GlobalMaxPooling1D, Dense\n",
    "\n",
    "# Create CNN model\n",
    "cnn_model = Sequential([\n",
    "    Embedding(input_dim=5000, output_dim=50, input_length=300),\n",
    "    Conv1D(filters=128, kernel_size=5, activation=\"relu\"),\n",
    "    GlobalMaxPooling1D(),\n",
    "    Dense(10, activation=\"relu\"),\n",
    "    Dense(1, activation=\"sigmoid\")  # Output: 0 (Real) or 1 (Fake)\n",
    "])\n",
    "\n",
    "cnn_model.compile(optimizer=\"adam\", loss=\"binary_crossentropy\", metrics=[\"accuracy\"])\n",
    "\n",
    "# Train CNN model\n",
    "cnn_model.fit(X_train_seq, y_train, epochs=5, batch_size=32, validation_data=(X_test_seq, y_test))\n",
    "\n",
    "# Save CNN Model\n",
    "cnn_model.save(\"cnn_model.h5\")\n",
    "joblib.dump(tokenizer, \"tokenizer.pkl\")\n"
   ]
  },
  {
   "cell_type": "code",
   "execution_count": 13,
   "metadata": {},
   "outputs": [
    {
     "name": "stdout",
     "output_type": "stream",
     "text": [
      "Epoch 1/5\n",
      "\u001b[1m1123/1123\u001b[0m \u001b[32m━━━━━━━━━━━━━━━━━━━━\u001b[0m\u001b[37m\u001b[0m \u001b[1m41s\u001b[0m 36ms/step - accuracy: 1.0000 - loss: 1.2139e-06 - val_accuracy: 0.9944 - val_loss: 0.0419\n",
      "Epoch 2/5\n",
      "\u001b[1m1123/1123\u001b[0m \u001b[32m━━━━━━━━━━━━━━━━━━━━\u001b[0m\u001b[37m\u001b[0m \u001b[1m41s\u001b[0m 36ms/step - accuracy: 1.0000 - loss: 8.1545e-07 - val_accuracy: 0.9944 - val_loss: 0.0429\n",
      "Epoch 3/5\n",
      "\u001b[1m1123/1123\u001b[0m \u001b[32m━━━━━━━━━━━━━━━━━━━━\u001b[0m\u001b[37m\u001b[0m \u001b[1m39s\u001b[0m 35ms/step - accuracy: 1.0000 - loss: 4.8777e-07 - val_accuracy: 0.9940 - val_loss: 0.0441\n",
      "Epoch 4/5\n",
      "\u001b[1m1123/1123\u001b[0m \u001b[32m━━━━━━━━━━━━━━━━━━━━\u001b[0m\u001b[37m\u001b[0m \u001b[1m40s\u001b[0m 35ms/step - accuracy: 1.0000 - loss: 2.8838e-07 - val_accuracy: 0.9944 - val_loss: 0.0451\n",
      "Epoch 5/5\n",
      "\u001b[1m1123/1123\u001b[0m \u001b[32m━━━━━━━━━━━━━━━━━━━━\u001b[0m\u001b[37m\u001b[0m \u001b[1m41s\u001b[0m 36ms/step - accuracy: 1.0000 - loss: 1.7451e-07 - val_accuracy: 0.9942 - val_loss: 0.0463\n"
     ]
    },
    {
     "data": {
      "image/png": "[encoded data removed]",
      "text/plain": [
       "<Figure size 800x500 with 1 Axes>"
      ]
     },
     "metadata": {},
     "output_type": "display_data"
    }
   ],
   "source": [
    "import matplotlib.pyplot as plt\n",
    "\n",
    "# Store training history in a variable\n",
    "history = cnn_model.fit(\n",
    "    X_train_seq, y_train,\n",
    "    epochs=5,\n",
    "    batch_size=32,\n",
    "    validation_data=(X_test_seq, y_test)\n",
    ")\n",
    "\n",
    "# Plot Training vs Validation Accuracy\n",
    "def plot_accuracy(history):\n",
    "    plt.figure(figsize=(8, 5))\n",
    "    plt.plot(history.history['accuracy'], label='Training Accuracy', marker='o')\n",
    "    plt.plot(history.history['val_accuracy'], label='Validation Accuracy', marker='o')\n",
    "    plt.title('Training vs Validation Accuracy')\n",
    "    plt.xlabel('Epoch')\n",
    "    plt.ylabel('Accuracy')\n",
    "    plt.ylim(0.85, 1.10)\n",
    "    plt.yticks([round(i, 2) for i in list(frange(0.85, 1.00, 0.05))])\n",
    "    plt.legend()\n",
    "    plt.grid(True)\n",
    "    plt.tight_layout()\n",
    "    plt.show()\n",
    "\n",
    "# Helper function for float range\n",
    "def frange(start, stop, step):\n",
    "    while start < stop:\n",
    "        yield start\n",
    "        start += step\n",
    "\n",
    "plot_accuracy(history)\n"
   ]
  },
  {
   "cell_type": "code",
   "execution_count": 9,
   "metadata": {},
   "outputs": [
    {
     "name": "stdout",
     "output_type": "stream",
     "text": [
      "TF-IDF vectorizer saved as 'tfidf_vectorizer.pkl'\n"
     ]
    }
   ],
   "source": [
    "import joblib\n",
    "from sklearn.feature_extraction.text import TfidfVectorizer\n",
    "\n",
    "# Assuming 'X_train' contains your training news articles (processed text)\n",
    "vectorizer = TfidfVectorizer(max_features=5000)  # Set appropriate max features\n",
    "X_train_tfidf = vectorizer.fit_transform(X_train)  # Fit on training data\n",
    "\n",
    "# **Save the vectorizer**\n",
    "joblib.dump(vectorizer, 'tfidf_vectorizer.pkl')\n",
    "print(\"TF-IDF vectorizer saved as 'tfidf_vectorizer.pkl'\")\n"
   ]
  },
  {
   "cell_type": "code",
   "execution_count": 10,
   "id": "c64baaa2",
   "metadata": {},
   "outputs": [
    {
     "name": "stdout",
     "output_type": "stream",
     "text": [
      "SVM model training complete and saved!\n"
     ]
    }
   ],
   "source": [
    "from sklearn.feature_extraction.text import TfidfVectorizer\n",
    "from sklearn.svm import SVC\n",
    "import joblib\n",
    "\n",
    "# Convert text to TF-IDF features\n",
    "vectorizer = TfidfVectorizer(max_features=5000)\n",
    "X_train_tfidf = vectorizer.fit_transform(X_train)\n",
    "X_test_tfidf = vectorizer.transform(X_test)\n",
    "\n",
    "# Train SVM model\n",
    "svm_model = SVC(probability=True, kernel=\"linear\", random_state=42)\n",
    "svm_model.fit(X_train_tfidf, y_train)\n",
    "\n",
    "# Save the trained model and vectorizer\n",
    "joblib.dump(svm_model, \"svm_model.pkl\")\n",
    "joblib.dump(vectorizer, \"tfidf_vectorizer.pkl\")\n",
    "\n",
    "print(\"SVM model training complete and saved!\")\n"
   ]
  },
  {
   "cell_type": "code",
   "execution_count": 11,
   "id": "95500fb3",
   "metadata": {},
   "outputs": [
    {
     "name": "stderr",
     "output_type": "stream",
     "text": [
      "WARNING:absl:Compiled the loaded model, but the compiled metrics have yet to be built. `model.compile_metrics` will be empty until you train or evaluate the model.\n"
     ]
    }
   ],
   "source": [
    "# Load trained models\n",
    "import numpy as np\n",
    "from tensorflow.keras.models import load_model\n",
    "\n",
    "naive_bayes_model = joblib.load(\"naive_bayes_model.pkl\")  \n",
    "cnn_model = load_model(\"cnn_model.h5\")  \n",
    "svm_model = joblib.load(\"svm_model.pkl\")  \n",
    "vectorizer = joblib.load(\"tfidf_vectorizer.pkl\")\n",
    "tokenizer = joblib.load(\"tokenizer.pkl\")\n",
    "\n",
    "def predict_news(text):\n",
    "    processed_text = preprocess_text(text)\n",
    "\n",
    "    # Naive Bayes Prediction\n",
    "    text_tfidf = vectorizer.transform([processed_text])\n",
    "    nb_real_prob = naive_bayes_model.predict_proba(text_tfidf)[0][0] * 100\n",
    "\n",
    "    # CNN Prediction\n",
    "    seq = tokenizer.texts_to_sequences([processed_text])\n",
    "    padded_seq = pad_sequences(seq, maxlen=300)\n",
    "    cnn_real_prob = (1 - cnn_model.predict(padded_seq)[0][0]) * 100\n",
    "\n",
    "    # SVM Prediction\n",
    "    svm_real_prob = svm_model.predict_proba(text_tfidf)[0][0] * 100\n",
    "\n",
    "    # Weighted Voting (giving higher weight to CNN)\n",
    "    final_real_prob = (0.2 * nb_real_prob) + (0.5 * cnn_real_prob) + (0.3 * svm_real_prob)\n",
    "\n",
    "    # Round probabilities\n",
    "    nb_real_prob = round(nb_real_prob, 2)\n",
    "    cnn_real_prob = round(cnn_real_prob, 2)\n",
    "    svm_real_prob = round(svm_real_prob, 2)\n",
    "    final_real_prob = round(final_real_prob, 2)\n",
    "\n",
    "    return {\n",
    "        \"naive_bayes\": f\"1️⃣ Naive Bayes: **{nb_real_prob}% real**\",\n",
    "        \"cnn\": f\"2️⃣ CNN: **{cnn_real_prob}% real**\",\n",
    "        \"svm\": f\"3️⃣ SVM: **{svm_real_prob}% real**\",\n",
    "        \"final\": f\"🔥 Final Verdict: **{final_real_prob}% real**\"\n",
    "    }\n"
   ]
  },
  {
   "cell_type": "code",
   "execution_count": 12,
   "id": "8335bf92",
   "metadata": {},
   "outputs": [
    {
     "name": "stdout",
     "output_type": "stream",
     "text": [
      "Dataset dynamically created from NewsAPI!\n"
     ]
    }
   ],
   "source": [
    "from sklearn.model_selection import train_test_split\n",
    "\n",
    "# Fetch latest news and create dataset dynamically\n",
    "real_news = fetch_latest_news()  # Real news from API\n",
    "fake_news = [\"This is fake news article generated for training purposes.\"] * len(real_news)  # Placeholder fake news\n",
    "\n",
    "# Combine and label data\n",
    "X_data = real_news + fake_news\n",
    "y_data = [1] * len(real_news) + [0] * len(fake_news)  # 1 for real, 0 for fake\n",
    "\n",
    "# Split dataset\n",
    "X_train, X_test, y_train, y_test = train_test_split(X_data, y_data, test_size=0.2, random_state=42)\n",
    "print(\"Dataset dynamically created from NewsAPI!\")\n"
   ]
  }
 ],
 "metadata": {
  "kernelspec": {
   "display_name": "Python 3",
   "language": "python",
   "name": "python3"
  },
  "language_info": {
   "codemirror_mode": {
    "name": "ipython",
    "version": 3
   },
   "file_extension": ".py",
   "mimetype": "text/x-python",
   "name": "python",
   "nbconvert_exporter": "python",
   "pygments_lexer": "ipython3",
   "version": "3.12.9"
  }
 },
 "nbformat": 4,
 "nbformat_minor": 2
}
